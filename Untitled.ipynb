{
 "cells": [
  {
   "cell_type": "code",
   "execution_count": 1,
   "id": "4c3e1704",
   "metadata": {},
   "outputs": [
    {
     "name": "stdout",
     "output_type": "stream",
     "text": [
      "0     4\n",
      "1     8\n",
      "2    15\n",
      "3    16\n",
      "4    23\n",
      "5    42\n",
      "dtype: int64\n"
     ]
    }
   ],
   "source": [
    "#Q1. Create a Pandas Series that contains the following data: 4, 8, 15, 16, 23, and 42. Then, print the series.\n",
    "import pandas as pd\n",
    "df = [4, 8, 15, 16, 23, 42]\n",
    "df1 = pd.Series(df)\n",
    "print(df1)"
   ]
  },
  {
   "cell_type": "code",
   "execution_count": 4,
   "id": "7af6540c",
   "metadata": {},
   "outputs": [
    {
     "name": "stdout",
     "output_type": "stream",
     "text": [
      "0     1\n",
      "1     2\n",
      "2     3\n",
      "3     4\n",
      "4     5\n",
      "5     6\n",
      "6     7\n",
      "7     8\n",
      "8     9\n",
      "9    10\n",
      "dtype: int64\n"
     ]
    }
   ],
   "source": [
    "#Q2. Create a variable of list type containing 10 elements in it, and apply pandas.Series function on the variable print it.\n",
    "df = [1,2,3,4,5,6,7,8,9,10]\n",
    "df1 = pd.Series(df)\n",
    "print(df1)"
   ]
  },
  {
   "cell_type": "code",
   "execution_count": 9,
   "id": "67f6ff12",
   "metadata": {},
   "outputs": [],
   "source": [
    "# Q3. Create a Pandas DataFrame that contains the following data:\n",
    "\n",
    "# Then, print the DataFrame.\n",
    "\n",
    "# Name         \n",
    "# Alice\n",
    "# Bob\n",
    "# Claire\n",
    "\n",
    "# Age\n",
    "# 25\n",
    "# 30\n",
    "# 27\n",
    "\n",
    "# Gender\n",
    "# Female\n",
    "# Male\n",
    "# Female\n",
    "data={\n",
    "    'Name':['Alice','Bob','Claire'],\n",
    "    'age':[25,30,27],\n",
    "    'Gender':['Female','Male','Female']\n",
    "}\n",
    "\n",
    "# df = pd.DataFrame(data)\n",
    "# print(df)"
   ]
  },
  {
   "cell_type": "code",
   "execution_count": 10,
   "id": "718d0e08",
   "metadata": {},
   "outputs": [
    {
     "name": "stdout",
     "output_type": "stream",
     "text": [
      "     Name  age  Gender\n",
      "0   Alice   25  Female\n",
      "1     Bob   30    Male\n",
      "2  Claire   27  Female\n"
     ]
    }
   ],
   "source": [
    "df = pd.DataFrame(data)\n",
    "print(df)"
   ]
  },
  {
   "cell_type": "code",
   "execution_count": null,
   "id": "7bfa6e19",
   "metadata": {},
   "outputs": [],
   "source": [
    "# Q4. What is ‘DataFrame’ in pandas and how is it different from pandas.series? Explain with an example.\n",
    "A DataFrame is a two-dimensional data structure in pandas that can store multiple columns of different data types.\n",
    "It is similar to a spreadsheet, with rows and columns. \n",
    "Each cell in a DataFrame can contain a different type of data, such as numbers, strings, dates, or booleans.\n",
    "\n",
    "A Series is a one-dimensional data structure in pandas that can store only one column of data.\n",
    "It is similar to a list, with an index and values. Each element in a Series can contain a different type of data.\n",
    "\n",
    "\n",
    "\n"
   ]
  },
  {
   "cell_type": "code",
   "execution_count": null,
   "id": "789c9642",
   "metadata": {},
   "outputs": [],
   "source": [
    "# What are some common functions you can use to manipulate data in a Pandas DataFrame? Can \n",
    "# you give an example of when you might use one of these functions?\n",
    "\n",
    "Pandas provides a wide range of functions and methods to manipulate data within a DataFrame. \n",
    "Some common functions include:\n",
    "\n",
    "head() and tail(): Used to view the first or last few rows of the DataFrame.\n",
    "\n",
    "df.head()  # Returns the first 5 rows of the DataFrame\n",
    "df.tail(3)  # Returns the last 3 rows of the DataFrame\n",
    "info(): Provides a concise summary of the DataFrame, including column data types and missing values.\n",
    "\n",
    "\n",
    "df.info()\n",
    "describe(): Generates descriptive statistics (count, mean, std, min, max, etc.) for numeric columns.\n",
    "\n",
    "    \n",
    "df.describe()\n",
    "loc[] and iloc[]: Used for selecting rows and columns by label \n",
    "(using index labels) or by position (using integer indexes),respectively.\n",
    "\n",
    "\n",
    "df.loc[2]  # Selects row with label/index 2\n",
    "df.iloc[:, 1:3]  # Selects all rows and columns from index 1 to 2 (exclusive)\n",
    "drop(): Allows for dropping rows or columns from the DataFrame.\n",
    "\n",
    "    \n",
    "df.drop(columns=['Age'])  # Drops the 'Age' column\n",
    "df.drop(index=[0, 2])  # Drops rows with index 0 and 2\n",
    "fillna(): Used to fill missing (NaN) values with specified data.\n",
    "\n",
    "\n",
    "df.fillna(0)  # Fills NaN values with 0\n",
    "groupby(): Groups data based on specified columns for aggregation.\n",
    "\n",
    "\n",
    "df.groupby('Gender').mean()  # Groups by 'Gender' and calculates the mean of other columns\n",
    "merge() and concat(): Used for combining DataFrames either by merging on columns or concatenating along rows/columns.\n",
    "\n",
    "\n",
    "merged_df = pd.merge(df1, df2, on='key_column')  # Merges two DataFrames based on 'key_column'\n",
    "concatenated_df = pd.concat([df1, df2])  # Concatenates DataFrames alone"
   ]
  },
  {
   "cell_type": "code",
   "execution_count": null,
   "id": "f752206f",
   "metadata": {},
   "outputs": [],
   "source": [
    "#  Which of the following is mutable in nature Series, DataFrame, Panel\n",
    "Among the three data structures provided by Pandas:\n",
    "\n",
    "Series\n",
    "DataFrame\n",
    "Panel (Deprecated since Pandas version 0.25.0 and removed in later versions)\n",
    "The mutability of these structures varies:\n",
    "\n",
    "Series: A Series is mutable. You can modify the values within a Series after its creation.\n",
    "\n",
    "DataFrame: A DataFrame is mutable. You can modify its values, add or remove columns, change the index, \n",
    "           and perform various other modifications to the DataFrame after it's created.\n",
    "\n",
    "Panel (Deprecated): Similar to DataFrame, Panel was mutable. However, it has been deprecated and removed in later versions of \n",
    "                    Pandas in favor of MultiIndex DataFrames or Panel-like operations with reshaping."
   ]
  },
  {
   "cell_type": "code",
   "execution_count": 14,
   "id": "8a672341",
   "metadata": {},
   "outputs": [
    {
     "data": {
      "text/html": [
       "<div>\n",
       "<style scoped>\n",
       "    .dataframe tbody tr th:only-of-type {\n",
       "        vertical-align: middle;\n",
       "    }\n",
       "\n",
       "    .dataframe tbody tr th {\n",
       "        vertical-align: top;\n",
       "    }\n",
       "\n",
       "    .dataframe thead th {\n",
       "        text-align: right;\n",
       "    }\n",
       "</style>\n",
       "<table border=\"1\" class=\"dataframe\">\n",
       "  <thead>\n",
       "    <tr style=\"text-align: right;\">\n",
       "      <th></th>\n",
       "      <th>a</th>\n",
       "      <th>b</th>\n",
       "      <th>c</th>\n",
       "    </tr>\n",
       "  </thead>\n",
       "  <tbody>\n",
       "    <tr>\n",
       "      <th>a</th>\n",
       "      <td>1</td>\n",
       "      <td>3</td>\n",
       "      <td>jony</td>\n",
       "    </tr>\n",
       "    <tr>\n",
       "      <th>b</th>\n",
       "      <td>2</td>\n",
       "      <td>4</td>\n",
       "      <td>toni</td>\n",
       "    </tr>\n",
       "    <tr>\n",
       "      <th>c</th>\n",
       "      <td>3</td>\n",
       "      <td>6</td>\n",
       "      <td>honu</td>\n",
       "    </tr>\n",
       "    <tr>\n",
       "      <th>d</th>\n",
       "      <td>5</td>\n",
       "      <td>7</td>\n",
       "      <td>ounu</td>\n",
       "    </tr>\n",
       "  </tbody>\n",
       "</table>\n",
       "</div>"
      ],
      "text/plain": [
       "   a  b     c\n",
       "a  1  3  jony\n",
       "b  2  4  toni\n",
       "c  3  6  honu\n",
       "d  5  7  ounu"
      ]
     },
     "execution_count": 14,
     "metadata": {},
     "output_type": "execute_result"
    }
   ],
   "source": [
    "# Q7. Create a DataFrame using multiple Series. Explain with an example.\n",
    "data = {'a':[1,2,3,5],\n",
    "        'b':[3,4,6,7],\n",
    "        'c':['jony','toni','honu','ounu']}\n",
    "df = pd.DataFrame(data,index=['a','b','c','d'])\n",
    "df"
   ]
  },
  {
   "cell_type": "code",
   "execution_count": 11,
   "id": "88e3e056",
   "metadata": {},
   "outputs": [],
   "source": []
  },
  {
   "cell_type": "code",
   "execution_count": null,
   "id": "01487023",
   "metadata": {},
   "outputs": [],
   "source": []
  }
 ],
 "metadata": {
  "kernelspec": {
   "display_name": "Python 3 (ipykernel)",
   "language": "python",
   "name": "python3"
  },
  "language_info": {
   "codemirror_mode": {
    "name": "ipython",
    "version": 3
   },
   "file_extension": ".py",
   "mimetype": "text/x-python",
   "name": "python",
   "nbconvert_exporter": "python",
   "pygments_lexer": "ipython3",
   "version": "3.11.5"
  }
 },
 "nbformat": 4,
 "nbformat_minor": 5
}
